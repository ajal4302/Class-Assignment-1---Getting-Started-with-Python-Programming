{
  "nbformat": 4,
  "nbformat_minor": 0,
  "metadata": {
    "colab": {
      "name": "Assignment .ipynb",
      "provenance": [],
      "authorship_tag": "ABX9TyPGPRyM4edFPqaBC3x+AOSO",
      "include_colab_link": true
    },
    "kernelspec": {
      "name": "python3",
      "display_name": "Python 3"
    }
  },
  "cells": [
    {
      "cell_type": "markdown",
      "metadata": {
        "id": "view-in-github",
        "colab_type": "text"
      },
      "source": [
        "<a href=\"https://colab.research.google.com/github/ajal4302/Class-Assignment-1---Getting-Started-with-Python-Programming/blob/master/Assignment_.ipynb\" target=\"_parent\"><img src=\"https://colab.research.google.com/assets/colab-badge.svg\" alt=\"Open In Colab\"/></a>"
      ]
    },
    {
      "cell_type": "code",
      "metadata": {
        "id": "NaiIWIOVO9SW",
        "colab_type": "code",
        "colab": {}
      },
      "source": [
        ""
      ],
      "execution_count": null,
      "outputs": []
    },
    {
      "cell_type": "markdown",
      "metadata": {
        "id": "WtjX72ccO_n0",
        "colab_type": "text"
      },
      "source": [
        "Question 2"
      ]
    },
    {
      "cell_type": "code",
      "metadata": {
        "id": "SrHTjFVAPCuo",
        "colab_type": "code",
        "colab": {
          "base_uri": "https://localhost:8080/",
          "height": 68
        },
        "outputId": "53c5a8c6-a4ab-42a8-ae93-1d062d759f02"
      },
      "source": [
        " \n",
        "Name =\"AJAL MANOHAR O\"\n",
        "Address =\"PARAPPANANGADI, MALAPPURAM\"\n",
        "Telephone_no =\"1112223334\"\n",
        "print(\" Name:\"+Name+\"\\n\",\"Address:\"+Address+\"\\n\",\"Telephone no:\"+Telephone_no)"
      ],
      "execution_count": 1,
      "outputs": [
        {
          "output_type": "stream",
          "text": [
            " Name:AJAL MANOHAR O\n",
            " Address:PARAPPANANGADI, MALAPPURAM\n",
            " Telephone no:1112223334\n"
          ],
          "name": "stdout"
        }
      ]
    },
    {
      "cell_type": "markdown",
      "metadata": {
        "id": "MtRPTWm0PJ-B",
        "colab_type": "text"
      },
      "source": [
        "Question 3"
      ]
    },
    {
      "cell_type": "code",
      "metadata": {
        "id": "og6ci0zIPLWB",
        "colab_type": "code",
        "colab": {
          "base_uri": "https://localhost:8080/",
          "height": 34
        },
        "outputId": "1a598919-aab8-4ac6-dbf2-6fd31d78298a"
      },
      "source": [
        " print(\"Your name is\",Name)"
      ],
      "execution_count": 2,
      "outputs": [
        {
          "output_type": "stream",
          "text": [
            "Your name is AJAL MANOHAR O\n"
          ],
          "name": "stdout"
        }
      ]
    },
    {
      "cell_type": "markdown",
      "metadata": {
        "id": "jBp6wPtDPSJb",
        "colab_type": "text"
      },
      "source": [
        "Question 4"
      ]
    },
    {
      "cell_type": "code",
      "metadata": {
        "id": "x3NJiRMlPUFC",
        "colab_type": "code",
        "colab": {
          "base_uri": "https://localhost:8080/",
          "height": 68
        },
        "outputId": "7df76451-3f0f-41c8-8a42-b2d625ce9d87"
      },
      "source": [
        " \n",
        "#area of a rectangle \n",
        "Width = float(input(\"Enter the width: \")) \n",
        "Height = float(input(\"Enter the height: \")) \n",
        "area =Width * Height\n",
        "print(\"The area is\",area, \"Square units\")"
      ],
      "execution_count": 4,
      "outputs": [
        {
          "output_type": "stream",
          "text": [
            "Enter the width: 10\n",
            "Enter the height: 20\n",
            "The area is 200.0 Square units\n"
          ],
          "name": "stdout"
        }
      ]
    },
    {
      "cell_type": "markdown",
      "metadata": {
        "id": "3ME7K0UEPj95",
        "colab_type": "text"
      },
      "source": [
        "Question 5"
      ]
    },
    {
      "cell_type": "code",
      "metadata": {
        "id": "FBLA0JSbPl39",
        "colab_type": "code",
        "colab": {
          "base_uri": "https://localhost:8080/",
          "height": 68
        },
        "outputId": "822fb074-e50e-4c2f-8507-5473b5034ace"
      },
      "source": [
        " \n",
        "#area of a triangle \n",
        "Base= float(input(\"Enter the base: \"))\n",
        "Height= float(input(\"Enter the height: \")) \n",
        "area = .5*Base*Height\n",
        "print(\"The area is\",area, \"square units\")"
      ],
      "execution_count": 6,
      "outputs": [
        {
          "output_type": "stream",
          "text": [
            "Enter the base: 15\n",
            "Enter the height: 6\n",
            "The area is 45.0 square units\n"
          ],
          "name": "stdout"
        }
      ]
    },
    {
      "cell_type": "markdown",
      "metadata": {
        "id": "qlCIiW1wPuVB",
        "colab_type": "text"
      },
      "source": [
        " Question 6"
      ]
    },
    {
      "cell_type": "code",
      "metadata": {
        "id": "X1KY_CTLP1qm",
        "colab_type": "code",
        "colab": {
          "base_uri": "https://localhost:8080/",
          "height": 51
        },
        "outputId": "742de38b-97c2-49f4-90f7-7e85a8f7770d"
      },
      "source": [
        " \n",
        "#area of a circle\n",
        "radius = float(input(\"Enter the radius: \")) \n",
        "area = 3.14*radius**2\n",
        "print(\"The area is\", area, \"square units\")"
      ],
      "execution_count": 7,
      "outputs": [
        {
          "output_type": "stream",
          "text": [
            "Enter the radius: 6\n",
            "The area is 113.04 square units\n"
          ],
          "name": "stdout"
        }
      ]
    },
    {
      "cell_type": "markdown",
      "metadata": {
        "id": "BWUXVlJyP7qp",
        "colab_type": "text"
      },
      "source": [
        "Question 7"
      ]
    },
    {
      "cell_type": "code",
      "metadata": {
        "id": "IsNAXV33P9yv",
        "colab_type": "code",
        "colab": {
          "base_uri": "https://localhost:8080/",
          "height": 88
        },
        "outputId": "7c62718d-a502-4a00-a396-fe907bc3bfff"
      },
      "source": [
        " \n",
        "Name = input(\"Enter your name: \") \n",
        "Age =input(\"Enter your age: \") \n",
        "print(\"My name is \"+Name+\" and my age is \"+Age)"
      ],
      "execution_count": 8,
      "outputs": [
        {
          "output_type": "stream",
          "text": [
            "Enter your name: AJAL MANOHAR O\n",
            "Enter your age: 18\n",
            "My name is AJAL MANOHAR O and my age is 18\n"
          ],
          "name": "stdout"
        }
      ]
    },
    {
      "cell_type": "markdown",
      "metadata": {
        "id": "Ukb8Oqq8QImV",
        "colab_type": "text"
      },
      "source": [
        "Question 8"
      ]
    },
    {
      "cell_type": "code",
      "metadata": {
        "id": "ofBzpRJwQKVC",
        "colab_type": "code",
        "colab": {
          "base_uri": "https://localhost:8080/",
          "height": 51
        },
        "outputId": "90e5571a-5f5e-4368-928d-5ca074f913ae"
      },
      "source": [
        " \n",
        "a= float(input(\"Enter a number: \")) \n",
        "a=a+1\n",
        "print(a)"
      ],
      "execution_count": 9,
      "outputs": [
        {
          "output_type": "stream",
          "text": [
            "Enter a number: 99\n",
            "100.0\n"
          ],
          "name": "stdout"
        }
      ]
    },
    {
      "cell_type": "markdown",
      "metadata": {
        "id": "xg6tkGu6QUP9",
        "colab_type": "text"
      },
      "source": [
        "Question 9"
      ]
    },
    {
      "cell_type": "code",
      "metadata": {
        "id": "tk91lDmQQVhT",
        "colab_type": "code",
        "colab": {
          "base_uri": "https://localhost:8080/",
          "height": 51
        },
        "outputId": "326bb552-26b0-4e05-edf8-b0fc6494f1ef"
      },
      "source": [
        " \n",
        "Name = input(\"Enter your first name: \") \n",
        "print(Name)"
      ],
      "execution_count": 10,
      "outputs": [
        {
          "output_type": "stream",
          "text": [
            "Enter your first name: OOPPATH\n",
            "OOPPATH\n"
          ],
          "name": "stdout"
        }
      ]
    }
  ]
}